{
 "cells": [
  {
   "cell_type": "markdown",
   "id": "a5e69433",
   "metadata": {},
   "source": [
    "# Способы извлечь сущности\n",
    "\n",
    "1. Взять родовое понятие, обучить word2vec на текстах отзывах (мне кажется важно обучить модель именно на текстах ревью из которых будем извлекать сущности), получить близкие к родовому слову синонимы и доставать из текстов эти слова. Минусы: не удастся вытащить прям все, потому что в отзывах могут встречаться не только родовые понятия, но и названия фильмов.\n",
    "2. Взять из метадаты названия и добавить их в словарь к родовым понятиям. Плюсы: высокая полнота. Минусы: очень много ручной работы, потому что в названиях есть подзаголовки, части, франшиза. И любые эти части могут использоваться в отзыве, скорее всего придется держать словарь, где каждому названию будут соответствовать разные варианты его написания (сокращения, подзаголовок, полное название и т.д.)\n",
    "3. Взять родовые понятия в word2vec, взять синонимы к ним, заменить их на какой-нибудь тэг типа NE. Обучить модель (хотя бы перцептрон) предсказывать по контексту будет ли там NE или нет. Плюсы: так можно предсказывать также названия (потому что они встречаются в тех же контекстах, что и родовые понятия). Минусы: нужно будет что-то придумать с длинной NE, так как названия могут состоять из нескольких слов.\n",
    "\n",
    "Я выбрал первый способ и 5-core [датасет](http://snap.stanford.edu/data/amazon/productGraph/categoryFiles/reviews_Movies_and_TV_5.json.gz) Movies and TV\n"
   ]
  },
  {
   "cell_type": "code",
   "execution_count": 1,
   "id": "59ea85b7",
   "metadata": {},
   "outputs": [],
   "source": [
    "import json\n",
    "import nltk\n",
    "import gzip\n",
    "import re\n",
    "import gensim\n",
    "import pandas as pd\n",
    "import tqdm\n",
    "from nltk.stem import WordNetLemmatizer\n",
    "from nltk.tokenize import sent_tokenize, word_tokenize\n",
    "from nltk.util import ngrams\n",
    "from nltk.corpus import stopwords\n",
    "from sklearn.utils import shuffle\n",
    "from nltk.collocations import *\n",
    "from string import punctuation\n",
    "from collections import Counter\n",
    "\n",
    "lemmatizer = WordNetLemmatizer()"
   ]
  },
  {
   "cell_type": "code",
   "execution_count": 2,
   "id": "bd6baa72",
   "metadata": {},
   "outputs": [],
   "source": [
    "def parse(path):\n",
    "  g = gzip.open(path, 'rb')\n",
    "  for l in g:\n",
    "    yield eval(l)\n",
    "\n",
    "def getDF(path):\n",
    "  i = 0\n",
    "  df = {}\n",
    "  for d in parse(path):\n",
    "    df[i] = d\n",
    "    i += 1\n",
    "  return pd.DataFrame.from_dict(df, orient='index')"
   ]
  },
  {
   "cell_type": "code",
   "execution_count": 3,
   "id": "827e5b01",
   "metadata": {},
   "outputs": [],
   "source": [
    "reviews = getDF('Movies_and_TV_5.json.gz')"
   ]
  },
  {
   "cell_type": "code",
   "execution_count": 46,
   "id": "10afedd0",
   "metadata": {},
   "outputs": [],
   "source": [
    "def preprocess(text, stopwords, delete_stopwords=False):\n",
    "    text = text.lower().strip()\n",
    "    for char in punctuation:\n",
    "        text = text.replace(char, \" \")\n",
    "    tokens = text.split()\n",
    "    new_text = []\n",
    "    for i in tokens:\n",
    "        if delete_stopwords:\n",
    "            if i not in stopwords:\n",
    "                new_text.append(i)\n",
    "        else:\n",
    "            new_text.append(i)\n",
    "    return new_text\n",
    "stop = stopwords.words('english')"
   ]
  },
  {
   "cell_type": "code",
   "execution_count": 47,
   "id": "6455a10c",
   "metadata": {},
   "outputs": [],
   "source": [
    "reviews = shuffle(reviews)"
   ]
  },
  {
   "cell_type": "code",
   "execution_count": 48,
   "id": "a65069b9",
   "metadata": {},
   "outputs": [],
   "source": [
    "corpus = [preprocess(i, stop) for i in reviews[:300000].reviewText.tolist()]"
   ]
  },
  {
   "cell_type": "code",
   "execution_count": 50,
   "id": "1ff03af2",
   "metadata": {},
   "outputs": [],
   "source": [
    "model = gensim.models.Word2Vec(corpus, window=2)"
   ]
  },
  {
   "cell_type": "markdown",
   "id": "cc8fdb0a",
   "metadata": {},
   "source": [
    "Возьмем в качестве родовых понятия movie, series, video и film и достанем синонимы к ним"
   ]
  },
  {
   "cell_type": "code",
   "execution_count": 51,
   "id": "f775bbec",
   "metadata": {},
   "outputs": [],
   "source": [
    "entities = []\n",
    "for i in model.wv.most_similar('movie', topn=15):\n",
    "    entities.append(i[0])"
   ]
  },
  {
   "cell_type": "code",
   "execution_count": 52,
   "id": "ce31756a",
   "metadata": {},
   "outputs": [],
   "source": [
    "for i in model.wv.most_similar('series', topn=15):\n",
    "    entities.append(i[0])"
   ]
  },
  {
   "cell_type": "code",
   "execution_count": 53,
   "id": "0df8a632",
   "metadata": {},
   "outputs": [],
   "source": [
    "for i in model.wv.most_similar('video', topn=15):\n",
    "    entities.append(i[0])"
   ]
  },
  {
   "cell_type": "code",
   "execution_count": 54,
   "id": "a47fcf31",
   "metadata": {},
   "outputs": [],
   "source": [
    "for i in model.wv.most_similar('film', topn=15):\n",
    "    entities.append(i[0])"
   ]
  },
  {
   "cell_type": "code",
   "execution_count": 55,
   "id": "bbcb20c1",
   "metadata": {},
   "outputs": [],
   "source": [
    "entities = [lemmatizer.lemmatize(i) for i in entities]"
   ]
  },
  {
   "cell_type": "code",
   "execution_count": 56,
   "id": "c21674f1",
   "metadata": {},
   "outputs": [],
   "source": [
    "entities = set(entities)\n",
    "entities = entities.difference(['lp', 'bootleg', 'workout', 'installment', 'match', 'it', 'thing', 'story', \n",
    "                               'tape', 'cd', 'bd', 'dvd', 'vhs', 'tape', 'recording',\n",
    "                               'laserdisc', 'concert', 'album', 'lp', 'product', 'storyline', 'boxset', 'demo',\n",
    "                               'genre', 'bluray', 'playback', 'hd', 'youtube', 'concert'])\n",
    "entities = list(entities)"
   ]
  },
  {
   "cell_type": "code",
   "execution_count": 57,
   "id": "2ea22700",
   "metadata": {},
   "outputs": [],
   "source": [
    "def get_mention(text, entities):\n",
    "    mentions = []\n",
    "    for word in text.split():\n",
    "        if lemmatizer.lemmatize(word) in entities:\n",
    "            mentions.append(word)\n",
    "    return mentions"
   ]
  },
  {
   "cell_type": "code",
   "execution_count": 58,
   "id": "573d5769",
   "metadata": {},
   "outputs": [],
   "source": [
    "new_corpus = []\n",
    "\n",
    "for i in corpus:\n",
    "    new_corpus.append(' '.join(i))"
   ]
  },
  {
   "cell_type": "code",
   "execution_count": 59,
   "id": "540275a8",
   "metadata": {},
   "outputs": [],
   "source": [
    "for i in range(len(new_corpus)):\n",
    "    new_corpus[i] = ' '.join(preprocess(new_corpus[i], stop, True))"
   ]
  },
  {
   "cell_type": "code",
   "execution_count": 60,
   "id": "69c21ea8",
   "metadata": {},
   "outputs": [],
   "source": [
    "bigrams = ngrams(' '.join(new_corpus).split(), 2)"
   ]
  },
  {
   "cell_type": "markdown",
   "id": "09aab305",
   "metadata": {},
   "source": [
    "# N-граммы"
   ]
  },
  {
   "cell_type": "code",
   "execution_count": 61,
   "id": "af704e33",
   "metadata": {},
   "outputs": [],
   "source": [
    "bi = Counter(bigrams)"
   ]
  },
  {
   "cell_type": "code",
   "execution_count": 63,
   "id": "701dd480",
   "metadata": {},
   "outputs": [],
   "source": [
    "bi_entities = []\n",
    "for i in bi.most_common():\n",
    "    if lemmatizer.lemmatize(i[0][0]) in entities or lemmatizer.lemmatize(i[0][1]) in entities:\n",
    "        bi_entities.append(' '.join([i[0][0], i[0][1]]))"
   ]
  },
  {
   "cell_type": "code",
   "execution_count": 64,
   "id": "9a771c43",
   "metadata": {},
   "outputs": [],
   "source": [
    "trigrams = ngrams(' '.join(new_corpus).split(), 3)\n",
    "tri = Counter(trigrams)\n",
    "tri_entities = []\n",
    "for i in tri.most_common():\n",
    "    if lemmatizer.lemmatize(i[0][0]) in entities or lemmatizer.lemmatize(i[0][1]) in entities or lemmatizer.lemmatize(i[0][2]) in entities:\n",
    "        tri_entities.append(' '.join([i[0][0], i[0][1], i[0][2]]))"
   ]
  },
  {
   "cell_type": "markdown",
   "id": "dd0e5306",
   "metadata": {},
   "source": [
    "# Коллокации"
   ]
  },
  {
   "cell_type": "code",
   "execution_count": 65,
   "id": "00bb04b3",
   "metadata": {},
   "outputs": [],
   "source": [
    "bigram_measures = nltk.collocations.BigramAssocMeasures()\n",
    "finder = BigramCollocationFinder.from_words(' '.join(new_corpus).split())\n",
    "finder.apply_freq_filter(20)"
   ]
  },
  {
   "cell_type": "code",
   "execution_count": 66,
   "id": "5138466e",
   "metadata": {},
   "outputs": [],
   "source": [
    "pmi = []\n",
    "for item in entities:\n",
    "    rate = [i for i in finder.nbest(bigram_measures.pmi, 1000000) if item in i]\n",
    "    pmi.append([' '.join(i) for i in rate])"
   ]
  },
  {
   "cell_type": "code",
   "execution_count": 67,
   "id": "7fe78f8f",
   "metadata": {},
   "outputs": [
    {
     "data": {
      "text/plain": [
       "['mbpsaverage video',\n",
       " 'video codec',\n",
       " 'muffled video',\n",
       " 'instant video',\n",
       " 'instructional video',\n",
       " 'alpha video',\n",
       " 'video games',\n",
       " 'video store',\n",
       " 'direct video',\n",
       " 'video stores',\n",
       " 'video game',\n",
       " 'video library',\n",
       " 'kino video',\n",
       " 'video tape',\n",
       " 'video audio',\n",
       " 'streaming video',\n",
       " 'video taped',\n",
       " 'home video',\n",
       " 'video diary',\n",
       " 'video demand',\n",
       " 'video transfer',\n",
       " 'audio video',\n",
       " 'video quality',\n",
       " 'video clips',\n",
       " 'video rental',\n",
       " 'straight video',\n",
       " 'mtv video',\n",
       " 'video cameras',\n",
       " 'video tapes',\n",
       " 'music video']"
      ]
     },
     "execution_count": 67,
     "metadata": {},
     "output_type": "execute_result"
    }
   ],
   "source": [
    "pmi[0][:30]"
   ]
  },
  {
   "cell_type": "code",
   "execution_count": 68,
   "id": "1fe0ecf6",
   "metadata": {},
   "outputs": [],
   "source": [
    "jaccard = []\n",
    "for item in entities:\n",
    "    rate = [i for i in finder.nbest(bigram_measures.jaccard, 1000000) if item in i]\n",
    "    jaccard.append([' '.join(i) for i in rate])"
   ]
  },
  {
   "cell_type": "code",
   "execution_count": 69,
   "id": "29bbf154",
   "metadata": {
    "scrolled": true
   },
   "outputs": [
    {
     "data": {
      "text/plain": [
       "['video game',\n",
       " 'video quality',\n",
       " 'home video',\n",
       " 'video store',\n",
       " 'video audio',\n",
       " 'video games',\n",
       " 'music video',\n",
       " 'audio video',\n",
       " 'direct video',\n",
       " 'instant video',\n",
       " 'video transfer',\n",
       " 'video tape',\n",
       " 'video library',\n",
       " 'straight video',\n",
       " 'local video',\n",
       " 'quality video',\n",
       " 'video collection',\n",
       " 'video release',\n",
       " 'video camera',\n",
       " 'alpha video',\n",
       " 'video sound',\n",
       " 'video rental',\n",
       " 'sound video',\n",
       " 'video stores',\n",
       " 'video releases',\n",
       " 'concert video',\n",
       " 'video fair',\n",
       " 'video clips',\n",
       " 'video footage',\n",
       " 'released video']"
      ]
     },
     "execution_count": 69,
     "metadata": {},
     "output_type": "execute_result"
    }
   ],
   "source": [
    "jaccard[0][:30]"
   ]
  },
  {
   "cell_type": "code",
   "execution_count": 70,
   "id": "7f4db3d9",
   "metadata": {},
   "outputs": [],
   "source": [
    "dice = []\n",
    "for item in entities:\n",
    "    rate = [i for i in finder.nbest(bigram_measures.dice, 1000000) if item in i][:150]\n",
    "    dice.append([' '.join(i) for i in rate])"
   ]
  },
  {
   "cell_type": "code",
   "execution_count": 71,
   "id": "af5248ab",
   "metadata": {},
   "outputs": [
    {
     "data": {
      "text/plain": [
       "['video game',\n",
       " 'video quality',\n",
       " 'home video',\n",
       " 'video store',\n",
       " 'video audio',\n",
       " 'video games',\n",
       " 'music video',\n",
       " 'audio video',\n",
       " 'direct video',\n",
       " 'instant video',\n",
       " 'video transfer',\n",
       " 'video tape',\n",
       " 'video library',\n",
       " 'straight video',\n",
       " 'local video',\n",
       " 'quality video',\n",
       " 'video collection',\n",
       " 'video release',\n",
       " 'video camera',\n",
       " 'alpha video',\n",
       " 'video sound',\n",
       " 'video rental',\n",
       " 'sound video',\n",
       " 'video stores',\n",
       " 'video releases',\n",
       " 'concert video',\n",
       " 'video fair',\n",
       " 'video clips',\n",
       " 'video footage',\n",
       " 'released video']"
      ]
     },
     "execution_count": 71,
     "metadata": {},
     "output_type": "execute_result"
    }
   ],
   "source": [
    "dice[0][:30]"
   ]
  },
  {
   "cell_type": "code",
   "execution_count": 72,
   "id": "e8b2f752",
   "metadata": {},
   "outputs": [],
   "source": [
    "trigram_measures = nltk.collocations.TrigramAssocMeasures()\n",
    "finder = TrigramCollocationFinder.from_words(' '.join(new_corpus).split())\n",
    "finder.apply_freq_filter(20)"
   ]
  },
  {
   "cell_type": "code",
   "execution_count": 73,
   "id": "8547a041",
   "metadata": {},
   "outputs": [
    {
     "data": {
      "text/plain": [
       "['video resolution codec',\n",
       " 'fair muffled video',\n",
       " 'mbpsaverage video bit',\n",
       " 'mpi home video',\n",
       " 'amazon instant video',\n",
       " 'prime instant video',\n",
       " 'local video store',\n",
       " 'video rental store',\n",
       " 'warner home video',\n",
       " 'fair video fair',\n",
       " 'audio fair video',\n",
       " 'direct video sequel',\n",
       " 'video audio quality',\n",
       " 'audio video quality',\n",
       " 'direct video release',\n",
       " 'playing video games',\n",
       " 'video bit rate',\n",
       " 'based video game',\n",
       " 'based video games',\n",
       " 'went straight video',\n",
       " 'play video games',\n",
       " 'blu ray video',\n",
       " 'home video release',\n",
       " 'video sound quality',\n",
       " 'quality video audio',\n",
       " 'highly recommend video',\n",
       " 'sound video quality',\n",
       " 'released home video',\n",
       " 'video quality blu',\n",
       " 'quality audio video']"
      ]
     },
     "execution_count": 73,
     "metadata": {},
     "output_type": "execute_result"
    }
   ],
   "source": [
    "pmi_tri = []\n",
    "for item in entities:\n",
    "    rate = [i for i in finder.nbest(trigram_measures.pmi, 1000000000) if item in i][:150]\n",
    "    pmi_tri.append([' '.join(i) for i in rate])\n",
    "pmi_tri[0][:30]"
   ]
  },
  {
   "cell_type": "code",
   "execution_count": 74,
   "id": "a301ee1c",
   "metadata": {},
   "outputs": [
    {
     "data": {
      "text/plain": [
       "['amazon instant video',\n",
       " 'warner home video',\n",
       " 'local video store',\n",
       " 'video audio quality',\n",
       " 'audio video quality',\n",
       " 'audio fair video',\n",
       " 'blu ray video',\n",
       " 'fair video fair',\n",
       " 'based video game',\n",
       " 'prime instant video',\n",
       " 'video rental store',\n",
       " 'video bit rate',\n",
       " 'fair muffled video',\n",
       " 'home video release',\n",
       " 'video sound quality',\n",
       " 'video resolution codec',\n",
       " 'highly recommend video',\n",
       " 'direct video sequel',\n",
       " 'mbpsaverage video bit',\n",
       " 'sound video quality',\n",
       " 'mpi home video',\n",
       " 'video quality excellent',\n",
       " 'video blu ray',\n",
       " 'video quality blu',\n",
       " 'went straight video',\n",
       " 'quality video audio',\n",
       " 'video game series',\n",
       " 'direct video release',\n",
       " 'playing video games',\n",
       " 'released home video']"
      ]
     },
     "execution_count": 74,
     "metadata": {},
     "output_type": "execute_result"
    }
   ],
   "source": [
    "jaccard_tri = []\n",
    "for item in entities:\n",
    "    rate = [i for i in finder.nbest(trigram_measures.jaccard, 1000000000) if item in i][:150]\n",
    "    jaccard_tri.append([' '.join(i) for i in rate])\n",
    "jaccard_tri[0][:30]"
   ]
  },
  {
   "cell_type": "code",
   "execution_count": 75,
   "id": "8fde4dcf",
   "metadata": {},
   "outputs": [
    {
     "data": {
      "text/plain": [
       "['blu ray video',\n",
       " 'video blu ray',\n",
       " 'highly recommend video',\n",
       " 'would recommend video',\n",
       " 'video sound quality',\n",
       " 'audio video quality',\n",
       " 'video quality dvd',\n",
       " 'based video game',\n",
       " 'video game series',\n",
       " 'like video game',\n",
       " 'video game movie',\n",
       " 'warner home video',\n",
       " 'video audio quality',\n",
       " 'recommend video anyone',\n",
       " 'video quality excellent',\n",
       " 'sound video quality',\n",
       " 'video quality blu',\n",
       " 'video quality good',\n",
       " 'local video store',\n",
       " 'video quality great',\n",
       " 'ray video quality',\n",
       " 'home video release',\n",
       " 'good video quality',\n",
       " 'mpi home video',\n",
       " 'released home video',\n",
       " 'quality video audio',\n",
       " 'music video director',\n",
       " 'like music video',\n",
       " 'amazon instant video',\n",
       " 'movie video store']"
      ]
     },
     "execution_count": 75,
     "metadata": {},
     "output_type": "execute_result"
    }
   ],
   "source": [
    "likelihood_ratio = []\n",
    "for item in entities:\n",
    "    rate = [i for i in finder.nbest(trigram_measures.likelihood_ratio, 1000000000) if item in i][:150]\n",
    "    likelihood_ratio.append([' '.join(i) for i in rate])\n",
    "likelihood_ratio[0][:30]"
   ]
  },
  {
   "cell_type": "markdown",
   "id": "d5ef58b7",
   "metadata": {},
   "source": [
    "Из всех метрик я решил выбрать для биграмм jaccard, а для триграмм likelihood_ratio, так как они, судя по всему, ранжируют n-граммы с описанием именно качества продукта выше. А это информация и является наиболее полезной."
   ]
  },
  {
   "cell_type": "markdown",
   "id": "186ec725",
   "metadata": {},
   "source": [
    "# Примеры для пяти товаров"
   ]
  },
  {
   "cell_type": "code",
   "execution_count": 77,
   "id": "1b5be65e",
   "metadata": {},
   "outputs": [],
   "source": [
    "five = {}\n",
    "for idx, item in enumerate(entities[:5]):\n",
    "    five[item] = jaccard[idx][:5] + likelihood_ratio[idx][:5]"
   ]
  },
  {
   "cell_type": "code",
   "execution_count": 78,
   "id": "85a6dabc",
   "metadata": {},
   "outputs": [],
   "source": [
    "df_five = pd.DataFrame(five)"
   ]
  },
  {
   "cell_type": "code",
   "execution_count": 79,
   "id": "0c3b38e3",
   "metadata": {},
   "outputs": [
    {
     "data": {
      "text/html": [
       "<div>\n",
       "<style scoped>\n",
       "    .dataframe tbody tr th:only-of-type {\n",
       "        vertical-align: middle;\n",
       "    }\n",
       "\n",
       "    .dataframe tbody tr th {\n",
       "        vertical-align: top;\n",
       "    }\n",
       "\n",
       "    .dataframe thead th {\n",
       "        text-align: right;\n",
       "    }\n",
       "</style>\n",
       "<table border=\"1\" class=\"dataframe\">\n",
       "  <thead>\n",
       "    <tr style=\"text-align: right;\">\n",
       "      <th></th>\n",
       "      <th>video</th>\n",
       "      <th>episode</th>\n",
       "      <th>trilogy</th>\n",
       "      <th>film</th>\n",
       "      <th>series</th>\n",
       "    </tr>\n",
       "  </thead>\n",
       "  <tbody>\n",
       "    <tr>\n",
       "      <th>0</th>\n",
       "      <td>video game</td>\n",
       "      <td>every episode</td>\n",
       "      <td>rings trilogy</td>\n",
       "      <td>horror film</td>\n",
       "      <td>tv series</td>\n",
       "    </tr>\n",
       "    <tr>\n",
       "      <th>1</th>\n",
       "      <td>video quality</td>\n",
       "      <td>pilot episode</td>\n",
       "      <td>wars trilogy</td>\n",
       "      <td>great film</td>\n",
       "      <td>mini series</td>\n",
       "    </tr>\n",
       "    <tr>\n",
       "      <th>2</th>\n",
       "      <td>home video</td>\n",
       "      <td>final episode</td>\n",
       "      <td>prequel trilogy</td>\n",
       "      <td>first film</td>\n",
       "      <td>entire series</td>\n",
       "    </tr>\n",
       "    <tr>\n",
       "      <th>3</th>\n",
       "      <td>video store</td>\n",
       "      <td>first episode</td>\n",
       "      <td>matrix trilogy</td>\n",
       "      <td>see film</td>\n",
       "      <td>television series</td>\n",
       "    </tr>\n",
       "    <tr>\n",
       "      <th>4</th>\n",
       "      <td>video audio</td>\n",
       "      <td>last episode</td>\n",
       "      <td>lotr trilogy</td>\n",
       "      <td>film also</td>\n",
       "      <td>complete series</td>\n",
       "    </tr>\n",
       "    <tr>\n",
       "      <th>5</th>\n",
       "      <td>blu ray video</td>\n",
       "      <td>star trek episode</td>\n",
       "      <td>trilogy blu ray</td>\n",
       "      <td>blu ray film</td>\n",
       "      <td>series blu ray</td>\n",
       "    </tr>\n",
       "    <tr>\n",
       "      <th>6</th>\n",
       "      <td>video blu ray</td>\n",
       "      <td>episode star trek</td>\n",
       "      <td>star wars trilogy</td>\n",
       "      <td>film blu ray</td>\n",
       "      <td>sci fi series</td>\n",
       "    </tr>\n",
       "    <tr>\n",
       "      <th>7</th>\n",
       "      <td>highly recommend video</td>\n",
       "      <td>episode one best</td>\n",
       "      <td>lord rings trilogy</td>\n",
       "      <td>film special effects</td>\n",
       "      <td>series years ago</td>\n",
       "    </tr>\n",
       "    <tr>\n",
       "      <th>8</th>\n",
       "      <td>would recommend video</td>\n",
       "      <td>star wars episode</td>\n",
       "      <td>indiana jones trilogy</td>\n",
       "      <td>special effects film</td>\n",
       "      <td>series even though</td>\n",
       "    </tr>\n",
       "    <tr>\n",
       "      <th>9</th>\n",
       "      <td>video sound quality</td>\n",
       "      <td>never seen episode</td>\n",
       "      <td>dark knight trilogy</td>\n",
       "      <td>sci fi film</td>\n",
       "      <td>highly recommend series</td>\n",
       "    </tr>\n",
       "  </tbody>\n",
       "</table>\n",
       "</div>"
      ],
      "text/plain": [
       "                    video             episode                trilogy  \\\n",
       "0              video game       every episode          rings trilogy   \n",
       "1           video quality       pilot episode           wars trilogy   \n",
       "2              home video       final episode        prequel trilogy   \n",
       "3             video store       first episode         matrix trilogy   \n",
       "4             video audio        last episode           lotr trilogy   \n",
       "5           blu ray video   star trek episode        trilogy blu ray   \n",
       "6           video blu ray   episode star trek      star wars trilogy   \n",
       "7  highly recommend video    episode one best     lord rings trilogy   \n",
       "8   would recommend video   star wars episode  indiana jones trilogy   \n",
       "9     video sound quality  never seen episode    dark knight trilogy   \n",
       "\n",
       "                   film                   series  \n",
       "0           horror film                tv series  \n",
       "1            great film              mini series  \n",
       "2            first film            entire series  \n",
       "3              see film        television series  \n",
       "4             film also          complete series  \n",
       "5          blu ray film           series blu ray  \n",
       "6          film blu ray            sci fi series  \n",
       "7  film special effects         series years ago  \n",
       "8  special effects film       series even though  \n",
       "9           sci fi film  highly recommend series  "
      ]
     },
     "execution_count": 79,
     "metadata": {},
     "output_type": "execute_result"
    }
   ],
   "source": [
    "df_five"
   ]
  }
 ],
 "metadata": {
  "kernelspec": {
   "display_name": "Python 3 (ipykernel)",
   "language": "python",
   "name": "python3"
  },
  "language_info": {
   "codemirror_mode": {
    "name": "ipython",
    "version": 3
   },
   "file_extension": ".py",
   "mimetype": "text/x-python",
   "name": "python",
   "nbconvert_exporter": "python",
   "pygments_lexer": "ipython3",
   "version": "3.9.8"
  }
 },
 "nbformat": 4,
 "nbformat_minor": 5
}
